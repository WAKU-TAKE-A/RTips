{
 "cells": [
  {
   "cell_type": "markdown",
   "metadata": {},
   "source": [
    "# Rcpp入門"
   ]
  },
  {
   "cell_type": "markdown",
   "metadata": {},
   "source": [
    "RからC++を利用するには、いくつか方法がありますが、「Rcpp」パッケージを使うのが簡単な方法の一つだと思います。「RcppArmadillo」、「RcppEigen」などのパッケージを併用することで、C++内のコーディングも容易になります。"
   ]
  },
  {
   "cell_type": "markdown",
   "metadata": {},
   "source": [
    "## 「Rcpp」パッケージについて"
   ]
  },
  {
   "cell_type": "markdown",
   "metadata": {},
   "source": [
    "RとC++のシームレスな統合を提供するC++クラスとR関数を提供します。多くのRデータ型とオブジェクトは、C++に相当するものにマッピングすることができます。新しいコードの作成やサードパーティのライブラリとの統合を容易にします。 "
   ]
  },
  {
   "cell_type": "markdown",
   "metadata": {},
   "source": [
    "## 「RcppArmadillo」と「RcppEigen」パッケージについて"
   ]
  },
  {
   "cell_type": "markdown",
   "metadata": {},
   "source": [
    "「Armadillo」と「Eigen」は、テンプレート型のC++線形代数ライブラリです。整数、浮動小数点数、複素数などの行列を扱うクラスや、統計関数をサポートしています。\n",
    "\n",
    "それぞれの特徴としては、一概には言えませんが、\n",
    "\n",
    "* 処理速度は、「Eigen」が速い\n",
    "* 記述は、「Armadillo」が容易\n",
    "\n",
    "「RcppArmadillo」と「RcppEigen」パッケージは、「Rcpp」から上記ライブラリを利用するパッケージです。\n",
    "\n",
    "パッケージには、上記ライブラリのヘッダーファイルが含まれていますので、それ自体をインストールする必要はありません。ただし、C++のコンパイルが必要になりますので、先に「Rtools」をインストールしてください。"
   ]
  },
  {
   "cell_type": "markdown",
   "metadata": {},
   "source": [
    "## パッケージのインストール "
   ]
  },
  {
   "cell_type": "markdown",
   "metadata": {},
   "source": [
    "まず、「[Rtools](https://cran.r-project.org/bin/windows/Rtools/)」をインストールして下さい。\n",
    "\n",
    "その後、管理者権限でRを起動し、以下を実行してください。※1\n",
    "\n",
    "----\n",
    "\n",
    "```\n",
    "install.packages(\"Rcpp\")\n",
    "install.packages(\"RcppArmadillo\")\n",
    "install.packages(\"RcppEigen\")\n",
    "```\n",
    "\n",
    "----\n",
    "\n",
    "「RcppArmadillo」パッケージのインストール中に、「パッケージのソースからインストールを行いますか?」と聞かれる場合がありますが、「y」で実行してください。\n",
    "\n",
    "インストール終了後、「Jupyter Notebook」は再起動してください。\n",
    "\n",
    "※ バージョンによっては正常に動作しない場合があります。私が試した環境は、\n",
    "\n",
    "* R version 3.4.1\n",
    "* Rcpp 0.12.12\n",
    "* RcppArmadillo 0.7.960.1.2\n",
    "* RcppEigen 0.3.3.3.0"
   ]
  },
  {
   "cell_type": "markdown",
   "metadata": {},
   "source": [
    "## 簡単なサンプル（RcppArmadillo）"
   ]
  },
  {
   "cell_type": "code",
   "execution_count": 1,
   "metadata": {
    "collapsed": true
   },
   "outputs": [],
   "source": [
    "# パッケージの読込み\n",
    "library(Rcpp)\n",
    "library(RcppArmadillo)\n",
    "\n",
    "# C+11にてコンパイルします（ラムダ式などが利用できます。うまくいかない場合はコメントアウトしてみてください。）\n",
    "Sys.setenv(\"PKG_CXXFLAGS\"=\"-std=c++11\")"
   ]
  },
  {
   "cell_type": "code",
   "execution_count": 2,
   "metadata": {
    "collapsed": true
   },
   "outputs": [],
   "source": [
    "# C++のコード\n",
    "code <- '\n",
    "arma::mat PlusOneArma(arma::mat src)\n",
    "{\n",
    "    // 行列の全ての要素に加算\n",
    "    arma::mat dst = src + 1;\n",
    "\n",
    "    return dst;\n",
    "}\n",
    "'\n",
    "\n",
    "# コンパイルとリンクを行います（少し時間がかかります）\n",
    "cppPlusOneArma <- cppFunction(code, depends=\"RcppArmadillo\")"
   ]
  },
  {
   "cell_type": "code",
   "execution_count": 3,
   "metadata": {},
   "outputs": [
    {
     "name": "stdout",
     "output_type": "stream",
     "text": [
      "     [,1] [,2] [,3] [,4]\n",
      "[1,]    1    4    7   10\n",
      "[2,]    2    5    8   11\n",
      "[3,]    3    6    9   12\n"
     ]
    }
   ],
   "source": [
    "src0 <- matrix(1:12, nrow=3)\n",
    "print(src0)"
   ]
  },
  {
   "cell_type": "code",
   "execution_count": 4,
   "metadata": {},
   "outputs": [
    {
     "name": "stdout",
     "output_type": "stream",
     "text": [
      "     [,1] [,2] [,3] [,4]\n",
      "[1,]    2    5    8   11\n",
      "[2,]    3    6    9   12\n",
      "[3,]    4    7   10   13\n"
     ]
    }
   ],
   "source": [
    "dst0 <- cppPlusOneArma(src0)\n",
    "print(dst0)"
   ]
  },
  {
   "cell_type": "markdown",
   "metadata": {},
   "source": [
    "## 簡単なサンプル（RcppEigen） "
   ]
  },
  {
   "cell_type": "code",
   "execution_count": 5,
   "metadata": {},
   "outputs": [
    {
     "name": "stderr",
     "output_type": "stream",
     "text": [
      "\n",
      "Attaching package: 'RcppEigen'\n",
      "\n",
      "The following objects are masked from 'package:RcppArmadillo':\n",
      "\n",
      "    fastLm, fastLmPure\n",
      "\n"
     ]
    }
   ],
   "source": [
    "# パッケージの読込み\n",
    "library(Rcpp)\n",
    "library(RcppEigen)\n",
    "\n",
    "# C+11にてコンパイルします（ラムダ式などが利用できます。うまくいかない場合はコメントアウトしてみてください。）\n",
    "Sys.setenv(\"PKG_CXXFLAGS\"=\"-std=c++11\")"
   ]
  },
  {
   "cell_type": "markdown",
   "metadata": {},
   "source": [
    "↑ エラーではありませんよ。"
   ]
  },
  {
   "cell_type": "code",
   "execution_count": 6,
   "metadata": {
    "collapsed": true
   },
   "outputs": [],
   "source": [
    "# C++のコード\n",
    "code <- '\n",
    "Eigen::MatrixXd PlusOneEigen(Eigen::MatrixXd src)\n",
    "{\n",
    "    // 行列の全ての要素に加算\n",
    "    Eigen::MatrixXd dst = src.array() + 1.0;\n",
    "\n",
    "    return dst;\n",
    "}\n",
    "'\n",
    "\n",
    "# コンパイルとリンクを行います（少し時間がかかります）\n",
    "cppPlusOneEigen <- cppFunction(code, depends=\"RcppEigen\", includes=c(\"#include <RcppEigen.h>\"))"
   ]
  },
  {
   "cell_type": "markdown",
   "metadata": {},
   "source": [
    "↑ `depends=\"RcppEigen\"`と設定していれば、`includes=c(\"#include <RcppEigen.h>\")`は不要のように思いますが、私の環境では必要でした。"
   ]
  },
  {
   "cell_type": "code",
   "execution_count": 7,
   "metadata": {},
   "outputs": [
    {
     "name": "stdout",
     "output_type": "stream",
     "text": [
      "     [,1] [,2] [,3] [,4]\n",
      "[1,]    1    4    7   10\n",
      "[2,]    2    5    8   11\n",
      "[3,]    3    6    9   12\n"
     ]
    }
   ],
   "source": [
    "src1 <- matrix(as.numeric(1:12), nrow=3) #整数ではなく浮動小数点にすること\n",
    "print(src1)"
   ]
  },
  {
   "cell_type": "code",
   "execution_count": 8,
   "metadata": {},
   "outputs": [
    {
     "name": "stdout",
     "output_type": "stream",
     "text": [
      "     [,1] [,2] [,3] [,4]\n",
      "[1,]    2    5    8   11\n",
      "[2,]    3    6    9   12\n",
      "[3,]    4    7   10   13\n"
     ]
    }
   ],
   "source": [
    "dst1 <- cppPlusOneEigen(src1)\n",
    "print(dst1)"
   ]
  },
  {
   "cell_type": "markdown",
   "metadata": {},
   "source": [
    "----\n",
    "※1  \n",
    "「Jupyter Notebook」で利用するのであれば、「[パッケージを読み込めないエラーについて](https://nbviewer.jupyter.org/github/waku-take-a/JupyterTips/blob/master/Error_occurred_in_library_function.ipynb)」の「パッケージのインストール先を変更する」を行ってください。"
   ]
  },
  {
   "cell_type": "markdown",
   "metadata": {},
   "source": [
    "----\n",
    "[ホームへ](https://waku-take-a.github.io/index.html)  \n",
    "[↑Rの記事Topへ](https://waku-take-a.github.io/R.html)  \n",
    "\n",
    "※  \n",
    "上記のipynbファイル等は、[こちらに](https://github.com/WAKU-TAKE-A/RTips)あります。  \n",
    "解凍後、`The jupyter notebook`にアップロードすれば、ローカルな環境で実行することも、編集することもできます。\n",
    "\n",
    "<(_ _)>\n",
    "\n",
    "★★★responsive_ja★★★"
   ]
  }
 ],
 "metadata": {
  "kernelspec": {
   "display_name": "R",
   "language": "R",
   "name": "ir"
  },
  "language_info": {
   "codemirror_mode": "r",
   "file_extension": ".r",
   "mimetype": "text/x-r-source",
   "name": "R",
   "pygments_lexer": "r",
   "version": "3.4.2"
  }
 },
 "nbformat": 4,
 "nbformat_minor": 2
}
