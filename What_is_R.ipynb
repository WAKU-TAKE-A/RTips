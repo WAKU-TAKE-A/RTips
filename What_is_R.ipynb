{
 "cells": [
  {
   "cell_type": "markdown",
   "metadata": {},
   "source": [
    "# Rとは？\n",
    "\n",
    "[Wikipediaの「R言語」](https://ja.wikipedia.org/wiki/R%E8%A8%80%E8%AA%9E)からの引用です。\n",
    "\n",
    "> R言語（あーるげんご）はオープンソース・フリーソフトウェアの統計解析向けのプログラミング言語及びその開発実行環境である。\n",
    ">\n",
    ">R言語はニュージーランドのオークランド大学のRoss IhakaとRobert Clifford Gentlemanにより作られた。現在ではR Development Core Team（S言語開発者であるJohn M. Chambersも参画している。）によりメンテナンスと拡張がなされている。\n",
    "\n",
    "おもにC言語とFORTRANで実装されており、スクリプト言語にしては処理速度は速いです。\n",
    "\n",
    "また、グラフィック環境も充実しているので、洗練されたグラフ表示が可能です。\n",
    "\n",
    "詳しくは、[Wikipediaの「R言語」](https://ja.wikipedia.org/wiki/R%E8%A8%80%E8%AA%9E)を見てください。ただものではないアプリケーションだと感じませんか？\n",
    "\n",
    "一応簡単に特徴をまとめてみます。\n",
    "\n",
    "* 統計計算とグラフィックスのための言語・環境\n",
    "* 行列演算が可能\n",
    "* 統計関数が豊富\n",
    "* C言語に近い記述でプログラミングが可能\n",
    "* CUI（Commande User Interface）で敷居が高い\n",
    "\n",
    "「コマンド形式版のEXCEL」と言ってもよいかもしれません。\n",
    "\n",
    "----\n",
    "[ホームへ](https://waku-take-a.github.io/index.html)  \n",
    "[↑Rの記事Topへ](https://waku-take-a.github.io/R.html)  \n",
    "\n",
    "※  \n",
    "上記のipynbファイル等は、[こちらに](https://github.com/WAKU-TAKE-A/RTips)あります。  \n",
    "解凍後、`The jupyter notebook`にアップロードすれば、ローカルな環境で実行することも、編集することもできます。\n",
    "\n",
    "<(_ _)>\n",
    "\n",
    "★★★responsive_ja★★★"
   ]
  }
 ],
 "metadata": {
  "kernelspec": {
   "display_name": "R",
   "language": "R",
   "name": "ir"
  },
  "language_info": {
   "codemirror_mode": "r",
   "file_extension": ".r",
   "mimetype": "text/x-r-source",
   "name": "R",
   "pygments_lexer": "r",
   "version": "3.4.4"
  }
 },
 "nbformat": 4,
 "nbformat_minor": 2
}
