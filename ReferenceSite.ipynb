{
 "cells": [
  {
   "cell_type": "markdown",
   "metadata": {},
   "source": [
    "# 参考になるサイト\n",
    "\n",
    "統計解析Rに興味が出てきた方は、以下の3つのサイトを見てみると良いと思います。\n",
    "\n",
    "* [R-Tips](http://cse.naro.affrc.go.jp/takezawa/r-tips/r.html)\n",
    "    * PDF版は今でも私の一番の参考書です。\n",
    "* [RjpWiki](http://www.okadajp.org/RWiki/)\n",
    "    * 困った時にまず見に来ます。[リンク集](http://www.okadajp.org/RWiki/?%E3%83%AA%E3%83%B3%E3%82%AF%E9%9B%86)も見てください。\n",
    "* [CRAN](https://cran.r-project.org/)\n",
    "    * 最新版のダウンロード、パッケージの追加。\n",
    "* [R-bloggers](https://www.r-bloggers.com/)\n",
    "    * 世界のRのニュース\n",
    "\n",
    "----\n",
    "[ホームへ](https://waku-take-a.github.io/index.html)  \n",
    "[↑Rの記事Topへ](https://waku-take-a.github.io/R.html)  \n",
    "\n",
    "※  \n",
    "上記のipynbファイル等は、[こちらに](https://github.com/WAKU-TAKE-A/RTips)あります。  \n",
    "解凍後、`The jupyter notebook`にアップロードすれば、ローカルな環境で実行することも、編集することもできます。\n",
    "\n",
    "<(_ _)>\n",
    "\n",
    "★★★responsive_ja★★★"
   ]
  }
 ],
 "metadata": {
  "kernelspec": {
   "display_name": "R",
   "language": "R",
   "name": "ir"
  },
  "language_info": {
   "codemirror_mode": "r",
   "file_extension": ".r",
   "mimetype": "text/x-r-source",
   "name": "R",
   "pygments_lexer": "r",
   "version": "3.4.2"
  }
 },
 "nbformat": 4,
 "nbformat_minor": 2
}
