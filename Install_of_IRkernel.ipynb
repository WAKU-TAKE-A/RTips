{
 "cells": [
  {
   "cell_type": "markdown",
   "metadata": {},
   "source": [
    "# IRkernelのインストール方法\n",
    "\n",
    "IRkernelのサイトの[「Installation」](https://irkernel.github.io/installation/)で正常にインストールできれば問題ありません。\n",
    "\n",
    "私は、WinPythonを使い、かつ、プロキシーを通じてインストールを試みました。うまくいきませんでした。\n",
    "\n",
    "以下に私が行った手順を書きます。ちなみに私の使用しているWinPythonとRは、以下の通りです。\n",
    "\n",
    "* WinPython-64bit-3.5.3.1Qt5\n",
    "* R-3.4.1\n",
    "\n",
    "環境によっては以下の手順でもうまくいかない場合もあるようです。その際は、ご容赦ください。\n",
    "\n",
    "### 1/3) ライブラリのインストール  \n",
    "\n",
    "Rを管理者権限で起動してください。  \n",
    "IRkernelのサイトにあるように以下を実行すれば、問題ありませんでした。  \n",
    "ただし、途中に「CRAN のミラーサイト」の選択ダイアログが表示されます。\n",
    "\n",
    "----\n",
    "\n",
    "```\n",
    "install.packages(c('repr', 'IRdisplay', 'evaluate', 'crayon', 'pbdZMQ', 'devtools', 'uuid', 'digest'))\n",
    "```\n",
    "\n",
    "----\n",
    "\n",
    "### 2/3) IRkernelのインストール\n",
    "\n",
    "原因は不明ですが、サイトにある\n",
    "\n",
    "----\n",
    "\n",
    "```\n",
    "devtools::install_github('IRkernel/IRkernel')\n",
    "```\n",
    "\n",
    "----\n",
    "\n",
    "ではうまくいきませんでした。ソースからインストールしました。\n",
    "\n",
    "* [こちら](https://github.com/IRkernel/IRkernel/releases)から、所望の「`*.tar.gz`」をダウンロードしてください\n",
    "* 所望のフォルダにコピーしてください（本例では、c:\\tmp）\n",
    "* 以下のコマンドをR上で実行してください\n",
    "\n",
    "----\n",
    "\n",
    "```\n",
    "install.packages(\"c:/tmp/IRkernel-0.7.tar.gz\", repos = NULL, type = \"source\")\n",
    "```\n",
    "\n",
    "----\n",
    "\n",
    "### 3/3) jupyterがRを認識するようにする\n",
    "\n",
    "サイトにある \n",
    "\n",
    "----\n",
    "\n",
    "```\n",
    "IRkernel::installspec()\n",
    "```\n",
    "\n",
    "----\n",
    "\n",
    "としても、WinPythonではうまくいきません。\n",
    "\n",
    "上記コマンドは、「`WinPythonのフォルダ\\python-3.5.3.amd64\\Scripts`」にある「`jupyter.exe`」や「`ipyton.exe`」などを利用するようですが、コマンドプロンプトで直接実行しても以下のようなエラーが表示されます。\n",
    "\n",
    "----\n",
    "\n",
    "```\n",
    "Fatal error in launcher: Unable to create process using '\"'\n",
    "```\n",
    "\n",
    "----\n",
    "\n",
    "batファイルから起動するようにすればうまくいくようです。以下の3つのbatファイルを作ってください。（リンク先からダウンロードも可能です）\n",
    "\n",
    "「[jupyter.bat](jupyter.bat)」\n",
    "\n",
    "----\n",
    "\n",
    "```\n",
    "@echo off\n",
    "call \"%~dp0env_for_icons.bat\"\n",
    "cd/D \"%WINPYWORKDIR%\"\n",
    "\"%WINPYDIR%\\scripts\\jupyter.exe\" %*\n",
    "```\n",
    "\n",
    "----\n",
    "\n",
    "「[ipython.bat](ipython.bat)」\n",
    "\n",
    "----\n",
    "\n",
    "```\n",
    "@echo off\n",
    "call \"%~dp0env_for_icons.bat\"\n",
    "cd/D \"%WINPYWORKDIR%\"\n",
    "\"%WINPYDIR%\\scripts\\ipython.exe\" %*\n",
    "```\n",
    "\n",
    "----\n",
    "\n",
    "「[ipython3.bat](ipython3.bat)」\n",
    "\n",
    "----\n",
    "\n",
    "```\n",
    "@echo off\n",
    "call \"%~dp0env_for_icons.bat\"\n",
    "cd/D \"%WINPYWORKDIR%\"\n",
    "\"%WINPYDIR%\\scripts\\ipython3.exe\" %*\n",
    "```\n",
    "\n",
    "----\n",
    "\n",
    "この3つのファイルを、「WinPythonのフォルダ\\scripts」にコピーしてください。「WinPythonのフォルダ\\python-3.5.3.amd64\\Scripts」ではありませんので注意してください。\n",
    "\n",
    "そして、「WinPythonのフォルダ\\scripts」のパスを通してください。（重要！）\n",
    "\n",
    "最後に以下の手順を行ってください。\n",
    "\n",
    "* 「cmd.exe（コマンド プロンプト）」を管理者権限で起動してください\n",
    "* 「Rのbinフォルダ\\R.exe」を実行して、***コマンド プロンプト上***でRを起動してください\n",
    "* 以下を実行してください\n",
    "\n",
    "----\n",
    "\n",
    "```\n",
    "IRkernel::installspec()\n",
    "\n",
    "```\n",
    "\n",
    "----\n",
    "\n",
    "正常動作すれば、以下のように表示されます。\n",
    "\n",
    "----\n",
    "\n",
    "```\n",
    "[InstallKernelSpec] Installed kernelspec ir in C:\\WinPython3\\settings...(省略)\n",
    "\n",
    "```\n",
    "\n",
    "----\n",
    "\n",
    "Notebookを再起動すると、新規にRでファイルを作成することが可能になります\n",
    "\n",
    "![menu_new_R.jpg](menu_new_R.jpg)\n"
   ]
  },
  {
   "cell_type": "markdown",
   "metadata": {},
   "source": [
    "# 試してみます\n",
    "\n",
    "このページ自体を、Notebookで作成しているので、実際にコードを実行することが可能です。（書いていて不思議な感じですが）"
   ]
  },
  {
   "cell_type": "code",
   "execution_count": 1,
   "metadata": {
    "scrolled": true
   },
   "outputs": [
    {
     "data": {
      "text/html": [
       "<ol class=list-inline>\n",
       "\t<li>-0.534982589371693</li>\n",
       "\t<li>-0.915415870204537</li>\n",
       "\t<li>-1.78677096174624</li>\n",
       "\t<li>-0.136955683088439</li>\n",
       "\t<li>0.897563086778857</li>\n",
       "\t<li>-1.61270811478532</li>\n",
       "</ol>\n"
      ],
      "text/latex": [
       "\\begin{enumerate*}\n",
       "\\item -0.534982589371693\n",
       "\\item -0.915415870204537\n",
       "\\item -1.78677096174624\n",
       "\\item -0.136955683088439\n",
       "\\item 0.897563086778857\n",
       "\\item -1.61270811478532\n",
       "\\end{enumerate*}\n"
      ],
      "text/markdown": [
       "1. -0.534982589371693\n",
       "2. -0.915415870204537\n",
       "3. -1.78677096174624\n",
       "4. -0.136955683088439\n",
       "5. 0.897563086778857\n",
       "6. -1.61270811478532\n",
       "\n",
       "\n"
      ],
      "text/plain": [
       "[1] -0.5349826 -0.9154159 -1.7867710 -0.1369557  0.8975631 -1.6127081"
      ]
     },
     "metadata": {},
     "output_type": "display_data"
    }
   ],
   "source": [
    "x = rnorm(100)\n",
    "head(x)"
   ]
  },
  {
   "cell_type": "code",
   "execution_count": 2,
   "metadata": {},
   "outputs": [
    {
     "data": {
      "image/png": "[encoded data removed]",
      "text/plain": [
       "Plot with title \"Histogram of x\""
      ]
     },
     "metadata": {},
     "output_type": "display_data"
    }
   ],
   "source": [
    "options(repr.plot.width=4, repr.plot.height=4) # グラフの大きさを調整します\n",
    "hist(x)"
   ]
  },
  {
   "cell_type": "markdown",
   "metadata": {},
   "source": [
    "----\n",
    "※  \n",
    "本ipynbファイルをIRkernelをインストールする前に開くと以下のようなダイアログが表示されます。  \n",
    "![kernel_not_found.jpg](kernel_not_found.jpg)  \n",
    "「Continue Without Kernel」を押し、「試してみます」まで実行してみてください。  \n",
    "IRkernelインストール後、Notebookを再起動すれば上のダイアログは表示されなくなります。"
   ]
  },
  {
   "cell_type": "markdown",
   "metadata": {},
   "source": [
    "----\n",
    "[ホームへ](https://waku-take-a.github.io/index.html)  \n",
    "[↑Rの記事Topへ](https://waku-take-a.github.io/R.html)  \n",
    "\n",
    "※  \n",
    "上記のipynbファイル等は、[こちらに](https://github.com/WAKU-TAKE-A/RTips)あります。  \n",
    "解凍後、`The jupyter notebook`にアップロードすれば、ローカルな環境で実行することも、編集することもできます。\n",
    "\n",
    "<(_ _)>\n",
    "\n",
    "★★★responsive_ja★★★"
   ]
  }
 ],
 "metadata": {
  "kernelspec": {
   "display_name": "R",
   "language": "R",
   "name": "ir"
  },
  "language_info": {
   "codemirror_mode": "r",
   "file_extension": ".r",
   "mimetype": "text/x-r-source",
   "name": "R",
   "pygments_lexer": "r",
   "version": "3.4.4"
  }
 },
 "nbformat": 4,
 "nbformat_minor": 2
}
