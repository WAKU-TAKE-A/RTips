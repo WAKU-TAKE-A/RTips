{
 "cells": [
  {
   "cell_type": "markdown",
   "metadata": {},
   "source": [
    "# Rを試してみよう！\n",
    "\n",
    "以下の指示どおりやってみてください。なんとなくRの雰囲気がつかめるかもしれません。\n",
    "\n",
    "ここでは、In [x]:の横のボックスをセルと呼びます。Rで実行するには、セル内のテキストをコピー＆ペーストして実行してください。"
   ]
  },
  {
   "cell_type": "code",
   "execution_count": 1,
   "metadata": {},
   "outputs": [
    {
     "data": {
      "text/html": [
       "10"
      ],
      "text/latex": [
       "10"
      ],
      "text/markdown": [
       "10"
      ],
      "text/plain": [
       "[1] 10"
      ]
     },
     "metadata": {},
     "output_type": "display_data"
    }
   ],
   "source": [
    "5 + 5"
   ]
  },
  {
   "cell_type": "markdown",
   "metadata": {},
   "source": [
    "まあ、こんな電卓的な使い方はしないと思います。次にいきましょう。"
   ]
  },
  {
   "cell_type": "code",
   "execution_count": 2,
   "metadata": {
    "collapsed": true
   },
   "outputs": [],
   "source": [
    "a <- 5 + 5"
   ]
  },
  {
   "cell_type": "markdown",
   "metadata": {},
   "source": [
    "何も表示されません。以下のセルを実行してください。"
   ]
  },
  {
   "cell_type": "code",
   "execution_count": 3,
   "metadata": {},
   "outputs": [
    {
     "data": {
      "text/html": [
       "10"
      ],
      "text/latex": [
       "10"
      ],
      "text/markdown": [
       "10"
      ],
      "text/plain": [
       "[1] 10"
      ]
     },
     "metadata": {},
     "output_type": "display_data"
    }
   ],
   "source": [
    "a"
   ]
  },
  {
   "cell_type": "markdown",
   "metadata": {},
   "source": [
    "「a <- 5 + 5」で、「a」という変数に答えが入力されました。\n",
    "\n",
    "以下のセルを実行してください。"
   ]
  },
  {
   "cell_type": "code",
   "execution_count": 4,
   "metadata": {},
   "outputs": [
    {
     "data": {
      "text/html": [
       "'a'"
      ],
      "text/latex": [
       "'a'"
      ],
      "text/markdown": [
       "'a'"
      ],
      "text/plain": [
       "[1] \"a\""
      ]
     },
     "metadata": {},
     "output_type": "display_data"
    }
   ],
   "source": [
    "ls()"
   ]
  },
  {
   "cell_type": "markdown",
   "metadata": {},
   "source": [
    "先ほど、aを変数と表現しましたが、Rではオブジェクトと言います。  \n",
    "変数、ユーザー定義関数などの全てが、オブジェクトとして管理されます。\n",
    "\n",
    "ls() は、オブジェクトのリストを表示してくれる関数です。\n",
    "\n",
    "さていきなりですが、統計解析のソフトにおいて、「データの入出力をどうするか？」は非常に重要なポイントになります。\n",
    "\n",
    "以下のセルを実行してください。"
   ]
  },
  {
   "cell_type": "code",
   "execution_count": 5,
   "metadata": {
    "collapsed": true
   },
   "outputs": [],
   "source": [
    "# クリップボードから読み込むユーザー定義関数\n",
    "read.cl<-function(header=T)\n",
    "{\n",
    "        read.delim(\"clipboard\",header)\n",
    "}"
   ]
  },
  {
   "cell_type": "code",
   "execution_count": 6,
   "metadata": {
    "collapsed": true
   },
   "outputs": [],
   "source": [
    "# クリップボードに書き込むユーザー定義関数\n",
    "write.cl<-function(obj=NULL, header=T)\n",
    "{\n",
    "      write.table(obj, \"clipboard\", col.names=header, row.names=F, quote=F, sep=\"\\t\")\n",
    "}"
   ]
  },
  {
   "cell_type": "markdown",
   "metadata": {},
   "source": [
    "これら2つの関数は、Rのオブジェクトの内容をクリップボードにコピーしたり、クリップボードからRにペーストする関数です。\n",
    "\n",
    "以降、クリップボード経由でデータのやり取りをしようというわけです。"
   ]
  },
  {
   "cell_type": "code",
   "execution_count": 7,
   "metadata": {},
   "outputs": [
    {
     "data": {
      "text/html": [
       "<ol class=list-inline>\n",
       "\t<li>'a'</li>\n",
       "\t<li>'read.cl'</li>\n",
       "\t<li>'write.cl'</li>\n",
       "</ol>\n"
      ],
      "text/latex": [
       "\\begin{enumerate*}\n",
       "\\item 'a'\n",
       "\\item 'read.cl'\n",
       "\\item 'write.cl'\n",
       "\\end{enumerate*}\n"
      ],
      "text/markdown": [
       "1. 'a'\n",
       "2. 'read.cl'\n",
       "3. 'write.cl'\n",
       "\n",
       "\n"
      ],
      "text/plain": [
       "[1] \"a\"        \"read.cl\"  \"write.cl\""
      ]
     },
     "metadata": {},
     "output_type": "display_data"
    }
   ],
   "source": [
    "ls()"
   ]
  },
  {
   "cell_type": "markdown",
   "metadata": {},
   "source": [
    "read.cl と write.cl が追加されたことが分かります。"
   ]
  },
  {
   "cell_type": "code",
   "execution_count": 8,
   "metadata": {
    "collapsed": true
   },
   "outputs": [],
   "source": [
    "write.cl(a)"
   ]
  },
  {
   "cell_type": "markdown",
   "metadata": {},
   "source": [
    "Microsoft ExcelやLibreOffice Calcなどがあれば、起動してください。右クリックで「貼り付け」してみてください。  \n",
    "オブジェクトaの内容をExcelなどに貼り付けることができたのではないでしょうか？\n",
    " \n",
    "[こちら](Let_us_try_R_data01.csv)のCSVファイルをダウンロードしてExcelなどで開いてください。  \n",
    "A1～D10までを選択して、右クリックで「コピー」して下さい。\n",
    "\n",
    "以下のセルを実行してください。"
   ]
  },
  {
   "cell_type": "code",
   "execution_count": 11,
   "metadata": {},
   "outputs": [
    {
     "data": {
      "text/html": [
       "<table>\n",
       "<thead><tr><th scope=col>X</th><th scope=col>Y</th><th scope=col>Type</th></tr></thead>\n",
       "<tbody>\n",
       "\t<tr><td> 1</td><td> 1</td><td>A </td></tr>\n",
       "\t<tr><td> 2</td><td> 3</td><td>A </td></tr>\n",
       "\t<tr><td> 4</td><td> 5</td><td>A </td></tr>\n",
       "\t<tr><td>10</td><td>10</td><td>B </td></tr>\n",
       "\t<tr><td> 6</td><td>15</td><td>C </td></tr>\n",
       "\t<tr><td> 1</td><td> 5</td><td>B </td></tr>\n",
       "\t<tr><td> 5</td><td>20</td><td>A </td></tr>\n",
       "\t<tr><td> 3</td><td> 4</td><td>C </td></tr>\n",
       "\t<tr><td>15</td><td>20</td><td>D </td></tr>\n",
       "</tbody>\n",
       "</table>\n"
      ],
      "text/latex": [
       "\\begin{tabular}{r|lll}\n",
       " X & Y & Type\\\\\n",
       "\\hline\n",
       "\t  1 &  1 & A \\\\\n",
       "\t  2 &  3 & A \\\\\n",
       "\t  4 &  5 & A \\\\\n",
       "\t 10 & 10 & B \\\\\n",
       "\t  6 & 15 & C \\\\\n",
       "\t  1 &  5 & B \\\\\n",
       "\t  5 & 20 & A \\\\\n",
       "\t  3 &  4 & C \\\\\n",
       "\t 15 & 20 & D \\\\\n",
       "\\end{tabular}\n"
      ],
      "text/markdown": [
       "\n",
       "X | Y | Type | \n",
       "|---|---|---|---|---|---|---|---|---|\n",
       "|  1 |  1 | A  | \n",
       "|  2 |  3 | A  | \n",
       "|  4 |  5 | A  | \n",
       "| 10 | 10 | B  | \n",
       "|  6 | 15 | C  | \n",
       "|  1 |  5 | B  | \n",
       "|  5 | 20 | A  | \n",
       "|  3 |  4 | C  | \n",
       "| 15 | 20 | D  | \n",
       "\n",
       "\n"
      ],
      "text/plain": [
       "  X  Y  Type\n",
       "1  1  1 A   \n",
       "2  2  3 A   \n",
       "3  4  5 A   \n",
       "4 10 10 B   \n",
       "5  6 15 C   \n",
       "6  1  5 B   \n",
       "7  5 20 A   \n",
       "8  3  4 C   \n",
       "9 15 20 D   "
      ]
     },
     "metadata": {},
     "output_type": "display_data"
    }
   ],
   "source": [
    "b <- read.cl()\n",
    "b"
   ]
  },
  {
   "cell_type": "markdown",
   "metadata": {},
   "source": [
    "データがRに取り込まれたのではないでしょうか？\n",
    "\n",
    "しかし、このクリップボードによるデータのやり取りでは、すぐに上限に達してしまいます。  \n",
    "write.clは数百行、read.clは、数万行のデータが可能です。  \n",
    "なぜこうなるのかは不勉強でよくわかりません。\n",
    "\n",
    "実際のやり取りではcsvファイルなどを経由してやり取りすることになると思います。  \n",
    "read.csv()、write.csv()などを使います。こちらは、メモリーの許す限り読み書き可能なはずです。"
   ]
  },
  {
   "cell_type": "markdown",
   "metadata": {},
   "source": [
    "# グラフを描画してみましょう\n",
    "\n",
    "さてデータを取り込めたのでグラフ描画してみましょう。"
   ]
  },
  {
   "cell_type": "code",
   "execution_count": 12,
   "metadata": {},
   "outputs": [
    {
     "data": {
      "image/png": "[encoded data removed]",
      "text/plain": [
       "plot without title"
      ]
     },
     "metadata": {},
     "output_type": "display_data"
    }
   ],
   "source": [
    "options(repr.plot.width=4, repr.plot.height=4) # グラフの大きさを調整します（エラー出た場合は無視してください）\n",
    "plot(b[,1], b[,2], cex=2)"
   ]
  },
  {
   "cell_type": "markdown",
   "metadata": {},
   "source": [
    "グラフが表示されましたね。b[row, col]において、rowはエクセルで言う行番号、colは列番号を示します。  \n",
    "b[, N]は、列を一度に選択しています。  \n",
    "plot(x, y)はグラフ描画のコマンドで、xはx軸、yはy軸を示しています。\n",
    "\n",
    "以下を実行してください。"
   ]
  },
  {
   "cell_type": "code",
   "execution_count": 13,
   "metadata": {},
   "outputs": [
    {
     "data": {
      "image/png": "[encoded data removed]",
      "text/plain": [
       "plot without title"
      ]
     },
     "metadata": {},
     "output_type": "display_data"
    }
   ],
   "source": [
    "plot(b[,\"X\"], b[,\"Y\"], col=c(\"red\", \"green\", \"blue\", \"yellow\")[unclass(b[,\"Type\"])], cex=2)"
   ]
  },
  {
   "cell_type": "markdown",
   "metadata": {
    "collapsed": true
   },
   "source": [
    "Typeで色分けされたグラフが表示されたと思います。\n",
    "\n",
    "b[row, col]において、rowやcolは名前で指定することも可能です。\n",
    "\n",
    "plot関数にはさまざまなオプションがあります。  \n",
    "cex=はドットの大きさを指定します。デフォルトは1です。  \n",
    "col=は色の指定でそれぞれのType列に対応する色でプロットしています。  \n",
    "\n",
    "このグラフをエクセルで書かせようと思うと、結構めんどくさいし、多分応用がききません。（ABCD別々にプロットさせるかな・・・）"
   ]
  },
  {
   "cell_type": "code",
   "execution_count": 14,
   "metadata": {},
   "outputs": [
    {
     "data": {
      "image/png": "[encoded data removed]",
      "text/plain": [
       "plot without title"
      ]
     },
     "metadata": {},
     "output_type": "display_data"
    }
   ],
   "source": [
    "plot(b[,\"X\"], b[,\"Y\"], col=2, cex=2)"
   ]
  },
  {
   "cell_type": "markdown",
   "metadata": {},
   "source": [
    "とすれば全て赤色でプロットします。  \n",
    "色は数値でも、色名でも指定できます。"
   ]
  },
  {
   "cell_type": "code",
   "execution_count": 15,
   "metadata": {},
   "outputs": [
    {
     "data": {
      "image/png": "[encoded data removed]",
      "text/plain": [
       "plot without title"
      ]
     },
     "metadata": {},
     "output_type": "display_data"
    }
   ],
   "source": [
    "plot(b[,\"X\"], b[,\"Y\"], col=\"blue\", cex=2, xlab=\"ラベルX\", ylab=\"ラベルY\")"
   ]
  },
  {
   "cell_type": "markdown",
   "metadata": {},
   "source": [
    "色名で指定しました。  \n",
    "xlab=、ylab=はラベル名の設定。"
   ]
  },
  {
   "cell_type": "code",
   "execution_count": 16,
   "metadata": {},
   "outputs": [
    {
     "data": {
      "image/png": "[encoded data removed]",
      "text/plain": [
       "Plot with title \"Histogram of b[, \"Y\"]\""
      ]
     },
     "metadata": {},
     "output_type": "display_data"
    }
   ],
   "source": [
    "hist(b[,\"Y\"], xlab=\"Y\")"
   ]
  },
  {
   "cell_type": "markdown",
   "metadata": {},
   "source": [
    "ヒストグラムも書けます。Excelにはないですね。\n",
    "\n",
    "さらに、こんなのはどうでしょう？"
   ]
  },
  {
   "cell_type": "code",
   "execution_count": 17,
   "metadata": {},
   "outputs": [
    {
     "data": {
      "text/html": [
       "<table>\n",
       "<thead><tr><th></th><th scope=col>X</th><th scope=col>Y</th><th scope=col>Type</th></tr></thead>\n",
       "<tbody>\n",
       "\t<tr><th scope=row>3</th><td>4 </td><td> 5</td><td>A </td></tr>\n",
       "\t<tr><th scope=row>5</th><td>6 </td><td>15</td><td>C </td></tr>\n",
       "\t<tr><th scope=row>7</th><td>5 </td><td>20</td><td>A </td></tr>\n",
       "\t<tr><th scope=row>8</th><td>3 </td><td> 4</td><td>C </td></tr>\n",
       "</tbody>\n",
       "</table>\n"
      ],
      "text/latex": [
       "\\begin{tabular}{r|lll}\n",
       "  & X & Y & Type\\\\\n",
       "\\hline\n",
       "\t3 & 4  &  5 & A \\\\\n",
       "\t5 & 6  & 15 & C \\\\\n",
       "\t7 & 5  & 20 & A \\\\\n",
       "\t8 & 3  &  4 & C \\\\\n",
       "\\end{tabular}\n"
      ],
      "text/markdown": [
       "\n",
       "| <!--/--> | X | Y | Type | \n",
       "|---|---|---|---|\n",
       "| 3 | 4  |  5 | A  | \n",
       "| 5 | 6  | 15 | C  | \n",
       "| 7 | 5  | 20 | A  | \n",
       "| 8 | 3  |  4 | C  | \n",
       "\n",
       "\n"
      ],
      "text/plain": [
       "  X Y  Type\n",
       "3 4  5 A   \n",
       "5 6 15 C   \n",
       "7 5 20 A   \n",
       "8 3  4 C   "
      ]
     },
     "metadata": {},
     "output_type": "display_data"
    }
   ],
   "source": [
    "c <- subset(b, b[,\"X\"]>=3 & b[,\"X\"]<=6)\n",
    "c"
   ]
  },
  {
   "cell_type": "markdown",
   "metadata": {},
   "source": [
    "subset(データ, 条件)はデータからある条件の数値だけ抽出する関数です。  \n",
    "列Xの中で3～6のものだけ抽出しました。\n",
    "\n",
    "さらにこうすると、"
   ]
  },
  {
   "cell_type": "code",
   "execution_count": 18,
   "metadata": {},
   "outputs": [
    {
     "data": {
      "image/png": "[encoded data removed]",
      "text/plain": [
       "plot without title"
      ]
     },
     "metadata": {},
     "output_type": "display_data"
    }
   ],
   "source": [
    "plot(b[,\"X\"], b[,\"Y\"], col=\"blue\", cex=2, xlab=\"ラベルX\", ylab=\"ラベルY\")\n",
    "points(c[,\"X\"], c[,\"Y\"], col=\"red\", cex=3)"
   ]
  },
  {
   "cell_type": "markdown",
   "metadata": {},
   "source": [
    "抽出したデータだけを追加描画できました。"
   ]
  },
  {
   "cell_type": "markdown",
   "metadata": {},
   "source": [
    "# どうです？\n",
    "\n",
    "エクセルよりデータが良く見えてきませんか？  \n",
    "Rは、統計解析だけではなくデータマイニング（データの可視化）という分野にも良くでてきます。\n",
    "\n",
    "パッケージを追加することで、3Dグラフの描画、クラスタ分析、画像の読み込み、データベース連携などにも対応できます。  \n",
    "処理速度もスクリプト言語にしては早いのではないでしょうか。\n",
    "\n",
    "# ちなみに\n",
    "\n",
    "本ページは、IRkernel が組み込まれた The jupyter notebook を使って作成しました。\n",
    "\n",
    "ipynbファイルは、[こちら](https://github.com/WAKU-TAKE-A/RTips)のLet_us_try_R.ipynbです。ダウンロードして、IRkernel が組み込まれた The jupyter notebook にアップロードすれば、実行も編集もできます。\n",
    "\n",
    "IRkernelの組み込み方は、[こちら](https://nbviewer.jupyter.org/github/waku-take-a/JupyterTips/blob/master/Install_of_IRkernel.ipynb)を参照してください。\n",
    "\n",
    "----\n",
    "※1  \n",
    "write.clやread.clは、タブ区切りのデータのやり取りを行うことができます。\n",
    "あと、オプションがあります。  \n",
    "a<-read.cl(header=FALSE)とすればヘッダーなしでオブジェクトaに読み込みます。  \n",
    "write.cl(b,header=FALSE)とすればオブジェクトbをヘッダーなしでクリップボードに書き込みます。  \n",
    "デフォルトはともにTRUEになってます。  \n",
    "\n",
    "----\n",
    "[ホームへ](https://waku-take-a.github.io/index.html)  \n",
    "[↑Rの記事Topへ](https://waku-take-a.github.io/R.html)  \n",
    "\n",
    "※  \n",
    "上記のipynbファイル等は、[こちらに](https://github.com/WAKU-TAKE-A/RTips)あります。  \n",
    "解凍後、`The jupyter notebook`にアップロードすれば、ローカルな環境で実行することも、編集することもできます。\n",
    "\n",
    "<(_ _)>"
   ]
  }
 ],
 "metadata": {
  "kernelspec": {
   "display_name": "R",
   "language": "R",
   "name": "ir"
  },
  "language_info": {
   "codemirror_mode": "r",
   "file_extension": ".r",
   "mimetype": "text/x-r-source",
   "name": "R",
   "pygments_lexer": "r",
   "version": "3.4.4"
  }
 },
 "nbformat": 4,
 "nbformat_minor": 2
}
