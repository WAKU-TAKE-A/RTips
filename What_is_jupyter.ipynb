{
 "cells": [
  {
   "cell_type": "markdown",
   "metadata": {},
   "source": [
    "# jupyterとは"
   ]
  },
  {
   "cell_type": "markdown",
   "metadata": {},
   "source": [
    "以下は、[本家に書いてある内容](https://jupyter.org/about.html)の翻訳です。\n",
    "\n",
    ">Project Jupyterは、2014年にIPythonプロジェクトから生まれたオープンソースプロジェクトで、すべてのプログラミング言語でインタラクティブなデータサイエンスと科学計算をサポートするように進化しました。 Jupyterは、常に100％オープンソースソフトウェアであり、すべてが自由に使用でき、変更されたBSDライセンスの自由な条件の下でリリースされます\n",
    "\n",
    "プロジェクトには、\n",
    "\n",
    "* IPython\n",
    "* The Jupyter notebook\n",
    "* JupyterLab\n",
    "* IRkernel\n",
    "* nbviewer\n",
    "\n",
    "など、いろいろあります。\n",
    "\n",
    "もともと、2001年からIPythonやIPython notebookがありました。\n",
    "\n",
    "IPythonは、Pythonを対話的に使うための豊富なツールキットです。\n",
    "\n",
    "IPython notebookは、WEBアプリケーションです。テキスト、数学、計算、メディアを組み合わせた***文書作成***するためのツールでありながら、***コードの実行***を対話的に行うこともできるという不思議なツールです。\n",
    "\n",
    "多言語対応などして、2014年にIPythonからProject Jupyterというプロジェクトに変わりました。\n",
    "\n",
    "以下は、[WikipediaのIPython]()の翻訳です。\n",
    "\n",
    ">2014年、FernandoPérezはIPythonからProject Jupyterというスピンオフプロジェクトを発表しました。 IPythonはPythonシェルとJupyterのカーネルとして存在し続けますが、ノートパソコンやIPythonの他の言語に依存しない部分はJupyterの名前の下に移動します。 Jupyterは、Julia、R、Haskell、Rubyのサポートを追加しました。\n",
    "\n",
    "ここでは、The Jupyter notebook（以降Notebook）についてのTipsを書いていこうかなと思います。（OSは、Windowsです）\n",
    "\n",
    "本ページはNotebookで作成しています。"
   ]
  },
  {
   "cell_type": "markdown",
   "metadata": {},
   "source": [
    "## 文書作成について"
   ]
  },
  {
   "cell_type": "markdown",
   "metadata": {},
   "source": [
    "Notebookでは、In [x]:の横のテキストボックスをセルと言います。以下のようにMarkdownを選択すると、文書を作成することができます（Markdown cells）。\n",
    "\n",
    "[Crrl] + [Enter]で表示状態に、ダブルクリックで編集状態にすることができます。\n",
    "\n",
    "![select_markdown.jpg](select_markdown.jpg)\n",
    "\n",
    "文書作成は、[Markdown](https://ja.wikipedia.org/wiki/Markdown)で記述します。\n",
    "\n",
    "* 見出し\n",
    "* リスト\n",
    "* 表\n",
    "* コードブロック\n",
    "* リンク\n",
    "* 画像表示\n",
    "\n",
    "など、簡易な文書を書くのに必要な機能を持っています。"
   ]
  },
  {
   "cell_type": "markdown",
   "metadata": {},
   "source": [
    "## コードの実行について"
   ]
  },
  {
   "cell_type": "markdown",
   "metadata": {},
   "source": [
    "以下のようにセルにコードを記述し、[Crrl] + [Enter]を押すと、実行結果が下に表示されます（Code cells）。\n",
    "\n",
    "matplotlibを使えば、グラフや画像なども表示することもできます。\n",
    "\n",
    "コーディングのフローとしては、以下のような方法があります。\n",
    "\n",
    "* 計算上の問題を断片化する\n",
    "* 関連するアイデアをセルに作成する\n",
    "* 前のセルが正しく動作することを確認したら、次のセルを作成する"
   ]
  },
  {
   "cell_type": "code",
   "execution_count": 10,
   "metadata": {},
   "outputs": [
    {
     "name": "stdout",
     "output_type": "stream",
     "text": [
      "Hello\n",
      "3\n"
     ]
    }
   ],
   "source": [
    "print('Hello')\n",
    "\n",
    "a = 1\n",
    "b = 2\n",
    "c = a + b\n",
    "\n",
    "print(c)"
   ]
  },
  {
   "cell_type": "markdown",
   "metadata": {},
   "source": [
    "## インストールの方法"
   ]
  },
  {
   "cell_type": "markdown",
   "metadata": {},
   "source": [
    "おすすめは、AnacondaやWinPythonをインストールする方法です。\n",
    "\n",
    "Notebookの公式インストールマニュアルでは、Anacondaのインストールが推奨されていますが、私はWinPythonを使おうと思います。（拡張はAnacondaが便利そうなので、あっさり宗旨替えしそうですが。）\n",
    "\n",
    "私は2017年7月において、WinPython-64bit-3.5.3.1Qt5を使っていますが、\n",
    "\n",
    "* Spyder\n",
    "* IPython\n",
    "* The Jupyter notebook\n",
    "* Idlex\n",
    "\n",
    "などが入っているだけでなく、モジュールとしても、さまざまなものが入っています。中でも、\n",
    "\n",
    "* keras\n",
    "* tensorflow\n",
    "* theano\n",
    "\n",
    "などの機械学習系のモジュールがデフォルトで入っているのには、驚きました。  \n",
    "（Anacondaにデフォルトでは入っていなかったと思います）\n",
    "\n",
    "WinPythonはただ解凍して、出来上がったフォルダを所望のフォルダにコピーすれば良いだけなので、非常に気楽です。\n",
    "\n",
    "フォルダに「Jupyter Notebook.exe」があるので実行すると、ブラウザが立ち上がります。"
   ]
  },
  {
   "cell_type": "markdown",
   "metadata": {},
   "source": [
    "----\n",
    "[ホームへ](https://waku-take-a.github.io/index.html)  \n",
    "[↑Rの記事Topへ](https://waku-take-a.github.io/R.html)  \n",
    "\n",
    "※  \n",
    "上記のipynbファイル等は、[こちらに](https://github.com/WAKU-TAKE-A/RTips)あります。  \n",
    "解凍後、`The jupyter notebook`にアップロードすれば、ローカルな環境で実行することも、編集することもできます。\n",
    "\n",
    "<(_ _)>"
   ]
  }
 ],
 "metadata": {
  "kernelspec": {
   "display_name": "Python 3",
   "language": "python",
   "name": "python3"
  },
  "language_info": {
   "codemirror_mode": {
    "name": "ipython",
    "version": 3
   },
   "file_extension": ".py",
   "mimetype": "text/x-python",
   "name": "python",
   "nbconvert_exporter": "python",
   "pygments_lexer": "ipython3",
   "version": "3.6.6"
  }
 },
 "nbformat": 4,
 "nbformat_minor": 2
}
